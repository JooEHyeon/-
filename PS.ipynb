{
  "nbformat": 4,
  "nbformat_minor": 0,
  "metadata": {
    "colab": {
      "name": "PS.ipynb",
      "provenance": [],
      "collapsed_sections": [],
      "authorship_tag": "ABX9TyPijNYSGiQvO4IJOYiSvAy/",
      "include_colab_link": true
    },
    "kernelspec": {
      "name": "python3",
      "display_name": "Python 3"
    }
  },
  "cells": [
    {
      "cell_type": "markdown",
      "metadata": {
        "id": "view-in-github",
        "colab_type": "text"
      },
      "source": [
        "<a href=\"https://colab.research.google.com/github/JooEHyeon/Want2B_Developer/blob/master/PS.ipynb\" target=\"_parent\"><img src=\"https://colab.research.google.com/assets/colab-badge.svg\" alt=\"Open In Colab\"/></a>"
      ]
    },
    {
      "cell_type": "code",
      "metadata": {
        "id": "fCP7Ae2o1t3t",
        "outputId": "d298790e-35cd-4ecc-94cb-7846824f56b0",
        "colab": {
          "base_uri": "https://localhost:8080/"
        }
      },
      "source": [
        "h, w = map(int, input().split())\n",
        "block = list(map(int, input().split()))\n",
        "\n",
        "left_block = [0 for i in range(w)]\n",
        "left_max = 0\n",
        "for i in range(w):\n",
        "    left_max = max(left_max, block[i])\n",
        "    left_block[i] = left_max\n",
        "\n",
        "right_block = [0 for i in range(w)]\n",
        "right_max = 0\n",
        "for i in range(w-1,-1,-1):\n",
        "    right_max = max(right_max, block[i])\n",
        "    right_block[i] = right_max\n",
        "\n",
        "ans = 0\n",
        "for i in range(w):\n",
        "    ans+= abs(block[i] - min(left_block[i], right_block[i]))\n",
        "\n",
        "print(ans)\n"
      ],
      "execution_count": 22,
      "outputs": [
        {
          "output_type": "stream",
          "text": [
            "3 5\n",
            "0 0 0 2 0\n",
            "0\n"
          ],
          "name": "stdout"
        }
      ]
    },
    {
      "cell_type": "code",
      "metadata": {
        "id": "yRWz_duZAs_H",
        "outputId": "76ae32ec-96a5-474e-e31b-74025ab1147e",
        "colab": {
          "base_uri": "https://localhost:8080/"
        }
      },
      "source": [
        "import math\n",
        "def is_pellin(num):\n",
        "    jarisu = 0\n",
        "    tmp = num\n",
        "    num_list = []\n",
        "    while tmp:\n",
        "        num_list.append(tmp%10)\n",
        "        tmp = tmp//10\n",
        "\n",
        "    for i in range(len(num_list)//2):\n",
        "        if num_list[i] != num_list[len(num_list) -1 -i]:\n",
        "            return False\n",
        "    \n",
        "    return True\n",
        "\n",
        "num = int(input())\n",
        "\n",
        "if num <= 2:\n",
        "    print(2)\n",
        "elif num == 3:\n",
        "    print(3)\n",
        "elif num <= 5:\n",
        "    print(5)\n",
        "else :\n",
        "    max_num = 2000000\n",
        "\n",
        "    visited = [0 for i in range(1,max_num)]\n",
        "\n",
        "    for i in range(2,int(math.sqrt(max_num))):\n",
        "        if visited[i] == 0:\n",
        "            for j in range(2,(max_num//i)):\n",
        "                # print(i,j)\n",
        "                visited[i*j] = 1\n",
        "\n",
        "    for i in range(num, max_num):\n",
        "        if visited[i] == 0 and is_pellin(i):\n",
        "            print(i)\n",
        "            break"
      ],
      "execution_count": 41,
      "outputs": [
        {
          "output_type": "stream",
          "text": [
            "6\n",
            "7\n"
          ],
          "name": "stdout"
        }
      ]
    }
  ]
}